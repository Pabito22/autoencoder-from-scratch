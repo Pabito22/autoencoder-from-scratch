{
 "cells": [
  {
   "cell_type": "code",
   "execution_count": 1,
   "id": "f256ff60-3efb-4462-bcc0-8c4e098182c5",
   "metadata": {},
   "outputs": [],
   "source": [
    "import numpy as np"
   ]
  },
  {
   "cell_type": "code",
   "execution_count": 2,
   "id": "4a9bb544-2657-46ee-bb43-1bce65a02223",
   "metadata": {},
   "outputs": [
    {
     "data": {
      "text/plain": [
       "array([4, 3, 2, 1])"
      ]
     },
     "execution_count": 2,
     "metadata": {},
     "output_type": "execute_result"
    }
   ],
   "source": [
    "a = np.array([1,2,3,4])\n",
    "a[-1::-1]"
   ]
  },
  {
   "cell_type": "markdown",
   "id": "e58fa9ee-4800-4509-8ad2-9aa5fb17a447",
   "metadata": {},
   "source": [
    "\n",
    "---\n",
    "$OUTPUT = \\sigma(w^Tx + b)$   \n",
    "Now, u are done with foreward pass,   \n",
    "\n",
    "Find a way how to implement backpropagation"
   ]
  },
  {
   "cell_type": "code",
   "execution_count": 3,
   "id": "ece48a17-be8f-41ba-9e08-5b5f06cb5a3c",
   "metadata": {},
   "outputs": [],
   "source": [
    "from NeuralNet import leaky_relu\n",
    "from NeuralNet import NN"
   ]
  },
  {
   "cell_type": "code",
   "execution_count": 4,
   "id": "933ff6d2-5788-4d17-ba05-50a5010fbe58",
   "metadata": {},
   "outputs": [],
   "source": [
    "Net = NN(3)"
   ]
  },
  {
   "cell_type": "code",
   "execution_count": 5,
   "id": "7db77cf9-f03d-459c-8e76-fc7f3f384f8c",
   "metadata": {},
   "outputs": [],
   "source": [
    "Net.add_layer(3)"
   ]
  },
  {
   "cell_type": "code",
   "execution_count": 6,
   "id": "90f18448-6ade-4315-b271-3a81ddd12054",
   "metadata": {},
   "outputs": [],
   "source": [
    "Net.add_layer(3)"
   ]
  },
  {
   "cell_type": "code",
   "execution_count": 7,
   "id": "8c34760d-6248-43e2-b1de-025eb305b233",
   "metadata": {},
   "outputs": [],
   "source": [
    "Net.add_layer(2)"
   ]
  },
  {
   "cell_type": "code",
   "execution_count": 8,
   "id": "61d234dc-3c91-4852-a501-d92c19bd81b7",
   "metadata": {},
   "outputs": [
    {
     "data": {
      "text/plain": [
       "array([-0.00891502, -0.00153872])"
      ]
     },
     "execution_count": 8,
     "metadata": {},
     "output_type": "execute_result"
    }
   ],
   "source": [
    "Net._predict(np.array([1,2,3]))"
   ]
  },
  {
   "cell_type": "code",
   "execution_count": 9,
   "id": "db086c66-8a47-4a4e-a929-f0038dfc1176",
   "metadata": {},
   "outputs": [
    {
     "name": "stdout",
     "output_type": "stream",
     "text": [
      "Old weights: \n",
      "\n",
      "[[ 0.57387894 -2.06825385  0.19838732 -0.63823099]\n",
      " [-0.24795514 -2.03635115 -0.01007928  1.05569848]\n",
      " [-0.36175528  0.42850077 -0.35882181 -0.39047279]]\n",
      "[[-1.58910868  0.2405366  -1.35317522 -1.02181499]\n",
      " [ 0.10105067  0.50875631 -0.52087279  0.82127948]\n",
      " [-0.19119078 -0.80678946 -1.21391625 -0.23901102]]\n",
      "[[-1.77654231 -0.46075206 -0.19404607 -0.53758493]\n",
      " [ 0.36105114 -0.35925866 -0.32713718  0.13849653]]\n",
      "-------------------\n"
     ]
    }
   ],
   "source": [
    "print(\"Old weights: \\n\")\n",
    "for layer in Net.layers:\n",
    "    print(layer.get_weights())\n",
    "print(\"-------------------\")"
   ]
  },
  {
   "cell_type": "code",
   "execution_count": 10,
   "id": "65ed4da2-a628-4980-8a73-0874b607cadb",
   "metadata": {},
   "outputs": [
    {
     "data": {
      "text/plain": [
       "np.float64(313.2213776731872)"
      ]
     },
     "execution_count": 10,
     "metadata": {},
     "output_type": "execute_result"
    }
   ],
   "source": [
    "Net.error([25, -1])"
   ]
  },
  {
   "cell_type": "code",
   "execution_count": 68,
   "id": "f1388017-65fb-464d-9376-a9f85d5a7f23",
   "metadata": {},
   "outputs": [
    {
     "data": {
      "text/plain": [
       "np.float64(0.6921580030203407)"
      ]
     },
     "execution_count": 68,
     "metadata": {},
     "output_type": "execute_result"
    }
   ],
   "source": [
    "Net.backward([25, -1])"
   ]
  },
  {
   "cell_type": "code",
   "execution_count": 12,
   "id": "db38226b-18d6-4b0d-94a8-5aacf8f5c758",
   "metadata": {},
   "outputs": [
    {
     "data": {
      "text/plain": [
       "array([-0.00845303, -0.00151487])"
      ]
     },
     "execution_count": 12,
     "metadata": {},
     "output_type": "execute_result"
    }
   ],
   "source": [
    "Net.layers[2].layer_output"
   ]
  },
  {
   "cell_type": "code",
   "execution_count": 69,
   "id": "67aba840-abdf-4034-9faf-6efb39c6e2db",
   "metadata": {},
   "outputs": [
    {
     "name": "stdout",
     "output_type": "stream",
     "text": [
      "New weights: \n",
      "\n",
      "[[ 0.59139615 -2.03321944  0.25093894 -0.62071379]\n",
      " [-0.28333567 -2.10711221 -0.11622087  1.02031795]\n",
      " [ 0.03578119  1.22357371  0.8337876   0.00706368]]\n",
      "[[-1.57428287  0.25669527 -1.50410884 -1.46141752]\n",
      " [ 0.47213334  0.81492292 -1.11352771 -9.84955367]\n",
      " [-0.18950211 -0.80494431 -1.23437972 -0.28910985]]\n",
      "[[ -2.1513875  -10.28486326  -0.33463321  22.57571054]\n",
      " [  0.36455834  -0.36687695  -0.32605629  -0.13096096]]\n",
      "-------------------\n"
     ]
    }
   ],
   "source": [
    "print(\"New weights: \\n\")\n",
    "for layer in Net.layers:\n",
    "    print(layer.get_weights())\n",
    "print(\"-------------------\")"
   ]
  },
  {
   "cell_type": "code",
   "execution_count": 71,
   "id": "ab323224-0e70-4c26-ad0b-fd571292525d",
   "metadata": {},
   "outputs": [
    {
     "data": {
      "text/plain": [
       "array([ 2.43786844e+01, -8.58922338e-04])"
      ]
     },
     "execution_count": 71,
     "metadata": {},
     "output_type": "execute_result"
    }
   ],
   "source": [
    "Net._predict(np.array([1,2,3]))"
   ]
  },
  {
   "cell_type": "code",
   "execution_count": null,
   "id": "2d47df1a-9d26-4e41-9ecc-c3e4e874678b",
   "metadata": {},
   "outputs": [],
   "source": []
  }
 ],
 "metadata": {
  "kernelspec": {
   "display_name": "Python 3 (ipykernel)",
   "language": "python",
   "name": "python3"
  },
  "language_info": {
   "codemirror_mode": {
    "name": "ipython",
    "version": 3
   },
   "file_extension": ".py",
   "mimetype": "text/x-python",
   "name": "python",
   "nbconvert_exporter": "python",
   "pygments_lexer": "ipython3",
   "version": "3.10.12"
  }
 },
 "nbformat": 4,
 "nbformat_minor": 5
}
