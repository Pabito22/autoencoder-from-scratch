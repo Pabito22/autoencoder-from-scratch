{
 "cells": [
  {
   "cell_type": "code",
   "execution_count": 1,
   "id": "f256ff60-3efb-4462-bcc0-8c4e098182c5",
   "metadata": {},
   "outputs": [],
   "source": [
    "import numpy as np"
   ]
  },
  {
   "cell_type": "code",
   "execution_count": 2,
   "id": "4a9bb544-2657-46ee-bb43-1bce65a02223",
   "metadata": {},
   "outputs": [
    {
     "data": {
      "text/plain": [
       "array([4, 3, 2, 1])"
      ]
     },
     "execution_count": 2,
     "metadata": {},
     "output_type": "execute_result"
    }
   ],
   "source": [
    "a = np.array([1,2,3,4])\n",
    "a[-1::-1]"
   ]
  },
  {
   "cell_type": "markdown",
   "id": "e58fa9ee-4800-4509-8ad2-9aa5fb17a447",
   "metadata": {},
   "source": [
    "\n",
    "---\n",
    "$OUTPUT = \\sigma(w^Tx + b)$   \n",
    "Now, u are done with foreward pass,   \n",
    "\n",
    "Find a way how to implement backpropagation"
   ]
  },
  {
   "cell_type": "code",
   "execution_count": 3,
   "id": "ece48a17-be8f-41ba-9e08-5b5f06cb5a3c",
   "metadata": {},
   "outputs": [],
   "source": [
    "from NeuralNet import leaky_relu\n",
    "from NeuralNet import NN"
   ]
  },
  {
   "cell_type": "code",
   "execution_count": 4,
   "id": "933ff6d2-5788-4d17-ba05-50a5010fbe58",
   "metadata": {},
   "outputs": [],
   "source": [
    "Net = NN(3)"
   ]
  },
  {
   "cell_type": "code",
   "execution_count": 5,
   "id": "7db77cf9-f03d-459c-8e76-fc7f3f384f8c",
   "metadata": {},
   "outputs": [],
   "source": [
    "Net.add_layer(3)"
   ]
  },
  {
   "cell_type": "code",
   "execution_count": 6,
   "id": "90f18448-6ade-4315-b271-3a81ddd12054",
   "metadata": {},
   "outputs": [],
   "source": [
    "Net.add_layer(3)"
   ]
  },
  {
   "cell_type": "code",
   "execution_count": 7,
   "id": "8c34760d-6248-43e2-b1de-025eb305b233",
   "metadata": {},
   "outputs": [],
   "source": [
    "Net.add_layer(2)"
   ]
  },
  {
   "cell_type": "code",
   "execution_count": 8,
   "id": "61d234dc-3c91-4852-a501-d92c19bd81b7",
   "metadata": {},
   "outputs": [
    {
     "data": {
      "text/plain": [
       "array([0.95595625, 0.09355278])"
      ]
     },
     "execution_count": 8,
     "metadata": {},
     "output_type": "execute_result"
    }
   ],
   "source": [
    "Net.predict(np.array([1,2,3]))"
   ]
  },
  {
   "cell_type": "code",
   "execution_count": 9,
   "id": "db086c66-8a47-4a4e-a929-f0038dfc1176",
   "metadata": {},
   "outputs": [
    {
     "name": "stdout",
     "output_type": "stream",
     "text": [
      "Old weights: \n",
      "\n",
      "[[ 0.34964003 -0.59990439 -0.52811407  1.40600926]\n",
      " [-0.69317077 -0.06619549 -1.19812079 -0.11539313]\n",
      " [-1.96726377  0.20070406 -1.28720522 -0.38470396]]\n",
      "[[ 7.84687865e-02  3.32831131e-01 -3.92076778e-01 -1.21821820e+00]\n",
      " [-1.65348553e-01  4.72846214e-01  2.02746488e+00  8.73083082e-02]\n",
      " [-9.64562263e-04  2.17081789e-01  9.64385203e-01  6.82300005e-01]]\n",
      "[[ 0.10700521 -0.53954381 -0.30255564  1.14348036]\n",
      " [-1.66382926  0.75103841  1.40012848 -0.78928126]]\n",
      "-------------------\n"
     ]
    }
   ],
   "source": [
    "print(\"Old weights: \\n\")\n",
    "for layer in Net.nn_layer_list:\n",
    "    print(layer.get_weights())\n",
    "print(\"-------------------\")"
   ]
  },
  {
   "cell_type": "code",
   "execution_count": 10,
   "id": "65ed4da2-a628-4980-8a73-0874b607cadb",
   "metadata": {},
   "outputs": [
    {
     "data": {
      "text/plain": [
       "np.float64(0.41179320543395576)"
      ]
     },
     "execution_count": 10,
     "metadata": {},
     "output_type": "execute_result"
    }
   ],
   "source": [
    "Net.error([1.0])"
   ]
  },
  {
   "cell_type": "code",
   "execution_count": 11,
   "id": "f1388017-65fb-464d-9376-a9f85d5a7f23",
   "metadata": {},
   "outputs": [
    {
     "name": "stdout",
     "output_type": "stream",
     "text": [
      "first Sigma:\n",
      "[-1.54404375  1.09355278]\n",
      "-------------\n",
      "i (layer from last to first) 1\n",
      "W:\n",
      " [[ 0.10700521 -0.53954381 -0.30255564]\n",
      " [-1.66382926  0.75103841  1.40012848]]\n",
      "sig old: \n",
      " [-1.54404375  1.09355278]\n",
      "-------------\n",
      "i (layer from last to first) 0\n",
      "W:\n",
      " [[ 7.84687865e-02  3.32831131e-01 -3.92076778e-01]\n",
      " [-1.65348553e-01  4.72846214e-01  2.02746488e+00]\n",
      " [-9.64562263e-04  2.17081789e-01  9.64385203e-01]]\n",
      "sig old: \n",
      " [-0.01984706  0.01654379  1.99827353]\n",
      "Neuron 0: \n",
      " old weights and bias\n",
      "[ 0.10700521 -0.53954381 -0.30255564]  + b=  1.1434803565093512\n",
      "gradient: [ 1.87034962e-02  7.76282930e-04 -9.51768359e-01] + del b = -1.544043746200627 \n",
      "New weights + bias: [ 0.10513486 -0.53962144 -0.2073788 ] b_new = 1.297884731129414\n",
      "Neuron 1: \n",
      " old weights and bias\n",
      "[-1.66382926  0.75103841  1.40012848]  + b=  -0.7892812642464468\n",
      "gradient: [-1.32465549e-02 -5.49794240e-04  6.74079953e-01] + del b = 1.0935527818518465 \n",
      "New weights + bias: [-1.66250461  0.75109338  1.33272048] b_new = -0.8986365424316315\n"
     ]
    },
    {
     "data": {
      "text/plain": [
       "'Ala'"
      ]
     },
     "execution_count": 11,
     "metadata": {},
     "output_type": "execute_result"
    }
   ],
   "source": [
    "Net.backward_pass([2.5, -1])"
   ]
  },
  {
   "cell_type": "code",
   "execution_count": 12,
   "id": "db38226b-18d6-4b0d-94a8-5aacf8f5c758",
   "metadata": {},
   "outputs": [
    {
     "data": {
      "text/plain": [
       "array([0.95595625, 0.09355278])"
      ]
     },
     "execution_count": 12,
     "metadata": {},
     "output_type": "execute_result"
    }
   ],
   "source": [
    "Net.nn_layer_list[2].layer_output"
   ]
  },
  {
   "cell_type": "code",
   "execution_count": 13,
   "id": "67aba840-abdf-4034-9faf-6efb39c6e2db",
   "metadata": {},
   "outputs": [
    {
     "name": "stdout",
     "output_type": "stream",
     "text": [
      "New weights: \n",
      "\n",
      "[[ 0.34964625 -0.59989195 -0.52809541  1.40601548]\n",
      " [-0.69360577 -0.0670655  -1.19942581 -0.11582814]\n",
      " [-1.9692322   0.1967672  -1.29311051 -0.38667239]]\n",
      "[[ 7.84483738e-02  3.32741118e-01 -3.92192133e-01 -1.21623349e+00]\n",
      " [-1.65331537e-01  4.72921246e-01  2.02756103e+00  8.56539288e-02]\n",
      " [ 1.09066546e-03  2.26144593e-01  9.75999519e-01  4.82472652e-01]]\n",
      "[[ 0.10513486 -0.53962144 -0.2073788   1.29788473]\n",
      " [-1.66250461  0.75109338  1.33272048 -0.89863654]]\n",
      "-------------------\n"
     ]
    }
   ],
   "source": [
    "print(\"New weights: \\n\")\n",
    "for layer in Net.nn_layer_list:\n",
    "    print(layer.get_weights())\n",
    "print(\"-------------------\")"
   ]
  },
  {
   "cell_type": "code",
   "execution_count": null,
   "id": "ab323224-0e70-4c26-ad0b-fd571292525d",
   "metadata": {},
   "outputs": [],
   "source": []
  }
 ],
 "metadata": {
  "kernelspec": {
   "display_name": "Python 3 (ipykernel)",
   "language": "python",
   "name": "python3"
  },
  "language_info": {
   "codemirror_mode": {
    "name": "ipython",
    "version": 3
   },
   "file_extension": ".py",
   "mimetype": "text/x-python",
   "name": "python",
   "nbconvert_exporter": "python",
   "pygments_lexer": "ipython3",
   "version": "3.10.12"
  }
 },
 "nbformat": 4,
 "nbformat_minor": 5
}
