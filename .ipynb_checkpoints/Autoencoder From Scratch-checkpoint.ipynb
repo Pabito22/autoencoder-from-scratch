{
 "cells": [
  {
   "cell_type": "code",
   "execution_count": 1,
   "id": "f256ff60-3efb-4462-bcc0-8c4e098182c5",
   "metadata": {},
   "outputs": [],
   "source": [
    "import numpy as np"
   ]
  },
  {
   "cell_type": "markdown",
   "id": "e58fa9ee-4800-4509-8ad2-9aa5fb17a447",
   "metadata": {},
   "source": [
    "\n",
    "---\n",
    "$OUTPUT = \\sigma(w^Tx + b)$   \n",
    "Now, u are done with foreward pass,   \n",
    "\n",
    "Find a way how to implement backpropagation"
   ]
  },
  {
   "cell_type": "code",
   "execution_count": 2,
   "id": "ece48a17-be8f-41ba-9e08-5b5f06cb5a3c",
   "metadata": {},
   "outputs": [],
   "source": [
    "from NeuralNet import relu\n",
    "from NeuralNet import NN"
   ]
  },
  {
   "cell_type": "code",
   "execution_count": 3,
   "id": "933ff6d2-5788-4d17-ba05-50a5010fbe58",
   "metadata": {},
   "outputs": [],
   "source": [
    "Net = NN(3)"
   ]
  },
  {
   "cell_type": "code",
   "execution_count": 4,
   "id": "7db77cf9-f03d-459c-8e76-fc7f3f384f8c",
   "metadata": {},
   "outputs": [],
   "source": [
    "Net.add_layer(3)"
   ]
  },
  {
   "cell_type": "code",
   "execution_count": 5,
   "id": "90f18448-6ade-4315-b271-3a81ddd12054",
   "metadata": {},
   "outputs": [],
   "source": [
    "Net.add_layer(3)"
   ]
  },
  {
   "cell_type": "code",
   "execution_count": 6,
   "id": "8c34760d-6248-43e2-b1de-025eb305b233",
   "metadata": {},
   "outputs": [],
   "source": [
    "Net.add_layer(2)"
   ]
  },
  {
   "cell_type": "code",
   "execution_count": 7,
   "id": "61d234dc-3c91-4852-a501-d92c19bd81b7",
   "metadata": {},
   "outputs": [
    {
     "data": {
      "text/plain": [
       "array([ 2.53155268, -0.00674331])"
      ]
     },
     "execution_count": 7,
     "metadata": {},
     "output_type": "execute_result"
    }
   ],
   "source": [
    "Net.predict(np.array([1,2,3]))"
   ]
  },
  {
   "cell_type": "code",
   "execution_count": 8,
   "id": "db086c66-8a47-4a4e-a929-f0038dfc1176",
   "metadata": {},
   "outputs": [
    {
     "data": {
      "text/plain": [
       "array([ 1,  4, 16])"
      ]
     },
     "execution_count": 8,
     "metadata": {},
     "output_type": "execute_result"
    }
   ],
   "source": [
    "np.array([1,2,4])**2"
   ]
  },
  {
   "cell_type": "code",
   "execution_count": 9,
   "id": "65ed4da2-a628-4980-8a73-0874b607cadb",
   "metadata": {},
   "outputs": [
    {
     "data": {
      "text/plain": [
       "np.float64(1.6795928534781868)"
      ]
     },
     "execution_count": 9,
     "metadata": {},
     "output_type": "execute_result"
    }
   ],
   "source": [
    "Net.error([1.0])"
   ]
  },
  {
   "cell_type": "code",
   "execution_count": 10,
   "id": "f1388017-65fb-464d-9376-a9f85d5a7f23",
   "metadata": {},
   "outputs": [
    {
     "name": "stdout",
     "output_type": "stream",
     "text": [
      "first Sigma:\n",
      "[0.03155268 0.00993257]\n",
      "W:\n",
      ", [[ 0.35586187  1.29155568  0.50709904]\n",
      " [ 0.60728755 -1.62649688  0.26946376]]\n",
      "[0.03155268 0.00993257]\n",
      "W:\n",
      ", [[ 0.12052021  0.67985988  1.5145258 ]\n",
      " [ 0.06436513  0.36636568 -0.40208607]\n",
      " [ 1.37333273  0.42007378  0.51033509]]\n",
      "[0.01726032 0.02459676 0.00018677]\n",
      "Neuron 0: \n",
      " old weights and bias\n",
      "[0.35586187 1.29155568 0.50709904]  + b=  1.1313090496683573\n",
      "gradient: [ 0.05972431  0.0177992  -0.00011994] + del b = 0.03155268304128578 \n",
      "New weights + bias: [0.34988944 1.28977576 0.50711103] b_new = 1.1281537813642288\n",
      "Neuron 1: \n",
      " old weights and bias\n",
      "[ 0.60728755 -1.62649688  0.26946376]  + b=  -0.9052828751276166\n",
      "gradient: [ 1.88008007e-02  5.60306629e-03 -3.77571926e-05] + del b = 0.009932566930813931 \n",
      "New weights + bias: [ 0.60540746 -1.62705719  0.26946754] b_new = -0.906276131820698\n"
     ]
    },
    {
     "data": {
      "text/plain": [
       "'Ala'"
      ]
     },
     "execution_count": 10,
     "metadata": {},
     "output_type": "execute_result"
    }
   ],
   "source": [
    "Net.backward_pass([2.5, -1])"
   ]
  }
 ],
 "metadata": {
  "kernelspec": {
   "display_name": "Python 3 (ipykernel)",
   "language": "python",
   "name": "python3"
  },
  "language_info": {
   "codemirror_mode": {
    "name": "ipython",
    "version": 3
   },
   "file_extension": ".py",
   "mimetype": "text/x-python",
   "name": "python",
   "nbconvert_exporter": "python",
   "pygments_lexer": "ipython3",
   "version": "3.10.12"
  }
 },
 "nbformat": 4,
 "nbformat_minor": 5
}
