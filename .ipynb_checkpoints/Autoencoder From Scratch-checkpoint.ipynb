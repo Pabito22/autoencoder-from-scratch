{
 "cells": [
  {
   "cell_type": "code",
   "execution_count": 1,
   "id": "f256ff60-3efb-4462-bcc0-8c4e098182c5",
   "metadata": {},
   "outputs": [],
   "source": [
    "import numpy as np"
   ]
  },
  {
   "cell_type": "code",
   "execution_count": 2,
   "id": "4a9bb544-2657-46ee-bb43-1bce65a02223",
   "metadata": {},
   "outputs": [
    {
     "data": {
      "text/plain": [
       "array([4, 3, 2, 1])"
      ]
     },
     "execution_count": 2,
     "metadata": {},
     "output_type": "execute_result"
    }
   ],
   "source": [
    "a = np.array([1,2,3,4])\n",
    "a[-1::-1]"
   ]
  },
  {
   "cell_type": "markdown",
   "id": "e58fa9ee-4800-4509-8ad2-9aa5fb17a447",
   "metadata": {},
   "source": [
    "\n",
    "---\n",
    "$OUTPUT = \\sigma(w^Tx + b)$   \n",
    "Now, u are done with foreward pass,   \n",
    "\n",
    "Find a way how to implement backpropagation"
   ]
  },
  {
   "cell_type": "code",
   "execution_count": 3,
   "id": "ece48a17-be8f-41ba-9e08-5b5f06cb5a3c",
   "metadata": {},
   "outputs": [],
   "source": [
    "from NeuralNet import leaky_relu\n",
    "from NeuralNet import NN"
   ]
  },
  {
   "cell_type": "code",
   "execution_count": 4,
   "id": "933ff6d2-5788-4d17-ba05-50a5010fbe58",
   "metadata": {},
   "outputs": [],
   "source": [
    "Net = NN(3)"
   ]
  },
  {
   "cell_type": "code",
   "execution_count": 5,
   "id": "7db77cf9-f03d-459c-8e76-fc7f3f384f8c",
   "metadata": {},
   "outputs": [],
   "source": [
    "Net.add_layer(3)"
   ]
  },
  {
   "cell_type": "code",
   "execution_count": 6,
   "id": "90f18448-6ade-4315-b271-3a81ddd12054",
   "metadata": {},
   "outputs": [],
   "source": [
    "Net.add_layer(3)"
   ]
  },
  {
   "cell_type": "code",
   "execution_count": 7,
   "id": "8c34760d-6248-43e2-b1de-025eb305b233",
   "metadata": {},
   "outputs": [],
   "source": [
    "Net.add_layer(2)"
   ]
  },
  {
   "cell_type": "code",
   "execution_count": 8,
   "id": "61d234dc-3c91-4852-a501-d92c19bd81b7",
   "metadata": {},
   "outputs": [
    {
     "data": {
      "text/plain": [
       "array([0.20426442, 0.06271161])"
      ]
     },
     "execution_count": 8,
     "metadata": {},
     "output_type": "execute_result"
    }
   ],
   "source": [
    "Net.predict(np.array([1,2,3]))"
   ]
  },
  {
   "cell_type": "code",
   "execution_count": 9,
   "id": "db086c66-8a47-4a4e-a929-f0038dfc1176",
   "metadata": {},
   "outputs": [
    {
     "name": "stdout",
     "output_type": "stream",
     "text": [
      "Old weights: \n",
      "\n",
      "[[ 0.70088312 -0.18820721 -0.68272767 -0.58739837]\n",
      " [ 0.68769837  0.93759401 -0.8249779  -0.52687261]\n",
      " [-0.99302772  0.64392311 -0.43696508 -0.12711893]]\n",
      "[[-0.75225546 -0.11800942  0.38524429  0.60166699]\n",
      " [-0.33153627 -0.80700013  0.98193312 -0.35554595]\n",
      " [ 0.79043949 -0.36458189 -1.23754124 -0.35036408]]\n",
      "[[ 0.4706521   1.66812961  2.40037163 -0.07086305]\n",
      " [-1.46095547 -0.54307836 -1.0301018   0.95587614]]\n",
      "-------------------\n"
     ]
    }
   ],
   "source": [
    "print(\"Old weights: \\n\")\n",
    "for layer in Net.nn_layer_list:\n",
    "    print(layer.get_weights())\n",
    "print(\"-------------------\")"
   ]
  },
  {
   "cell_type": "code",
   "execution_count": 10,
   "id": "65ed4da2-a628-4980-8a73-0874b607cadb",
   "metadata": {},
   "outputs": [
    {
     "data": {
      "text/plain": [
       "np.float64(0.7558523236809933)"
      ]
     },
     "execution_count": 10,
     "metadata": {},
     "output_type": "execute_result"
    }
   ],
   "source": [
    "Net.error([1.0])"
   ]
  },
  {
   "cell_type": "code",
   "execution_count": 11,
   "id": "f1388017-65fb-464d-9376-a9f85d5a7f23",
   "metadata": {},
   "outputs": [
    {
     "name": "stdout",
     "output_type": "stream",
     "text": [
      "first Sigma:\n",
      "[-2.29573558  1.06271161]\n",
      "-------------\n",
      "i (layer from last to first) 1\n",
      "W:\n",
      " [[ 0.4706521   1.66812961  2.40037163]\n",
      " [-1.46095547 -0.54307836 -1.0301018 ]]\n",
      "sig old: \n",
      " [-2.29573558  1.06271161]\n",
      "-------------\n",
      "i (layer from last to first) 0\n",
      "W:\n",
      " [[-0.75225546 -0.11800942  0.38524429]\n",
      " [-0.33153627 -0.80700013  0.98193312]\n",
      " [ 0.79043949 -0.36458189 -1.23754124]]\n",
      "sig old: \n",
      " [-2.63306711 -0.0440672  -0.0660532 ]\n",
      "Neuron 0: \n",
      " old weights and bias\n",
      "[0.4706521  1.66812961 2.40037163]  + b=  -0.07086305036331315\n",
      "gradient: [-1.41225923  0.00816288  0.00810129] + del b = -2.295735579939898 \n",
      "New weights + bias: [0.61187802 1.66731332 2.3995615 ] b_new = 0.15871050763067668\n",
      "Neuron 1: \n",
      " old weights and bias\n",
      "[-1.46095547 -0.54307836 -1.0301018 ]  + b=  0.9558761395187433\n",
      "gradient: [ 0.6537444  -0.00377865 -0.00375014] + del b = 1.0627116056518673 \n",
      "New weights + bias: [-1.52632991 -0.54270049 -1.02972678] b_new = 0.8496049789535566\n"
     ]
    },
    {
     "data": {
      "text/plain": [
       "'Ala'"
      ]
     },
     "execution_count": 11,
     "metadata": {},
     "output_type": "execute_result"
    }
   ],
   "source": [
    "Net.backward_pass([2.5, -1])"
   ]
  },
  {
   "cell_type": "code",
   "execution_count": 12,
   "id": "db38226b-18d6-4b0d-94a8-5aacf8f5c758",
   "metadata": {},
   "outputs": [
    {
     "data": {
      "text/plain": [
       "array([0.20426442, 0.06271161])"
      ]
     },
     "execution_count": 12,
     "metadata": {},
     "output_type": "execute_result"
    }
   ],
   "source": [
    "Net.nn_layer_list[2].layer_output"
   ]
  },
  {
   "cell_type": "code",
   "execution_count": 13,
   "id": "67aba840-abdf-4034-9faf-6efb39c6e2db",
   "metadata": {},
   "outputs": [
    {
     "name": "stdout",
     "output_type": "stream",
     "text": [
      "New weights: \n",
      "\n",
      "[[ 0.69893998 -0.19209349 -0.68855708 -0.58934151]\n",
      " [ 0.68732799  0.93685327 -0.82608901 -0.52724298]\n",
      " [-0.99205182  0.64587491 -0.43403737 -0.12614303]]\n",
      "[[-0.75834078 -0.11916513  0.38223418  0.8649737 ]\n",
      " [-0.33163811 -0.80701947  0.98188274 -0.35113923]\n",
      " [ 0.79028684 -0.36461088 -1.23761675 -0.34375876]]\n",
      "[[ 0.61187802  1.66731332  2.3995615   0.15871051]\n",
      " [-1.52632991 -0.54270049 -1.02972678  0.84960498]]\n",
      "-------------------\n"
     ]
    }
   ],
   "source": [
    "print(\"New weights: \\n\")\n",
    "for layer in Net.nn_layer_list:\n",
    "    print(layer.get_weights())\n",
    "print(\"-------------------\")"
   ]
  },
  {
   "cell_type": "code",
   "execution_count": null,
   "id": "ab323224-0e70-4c26-ad0b-fd571292525d",
   "metadata": {},
   "outputs": [],
   "source": []
  }
 ],
 "metadata": {
  "kernelspec": {
   "display_name": "Python 3 (ipykernel)",
   "language": "python",
   "name": "python3"
  },
  "language_info": {
   "codemirror_mode": {
    "name": "ipython",
    "version": 3
   },
   "file_extension": ".py",
   "mimetype": "text/x-python",
   "name": "python",
   "nbconvert_exporter": "python",
   "pygments_lexer": "ipython3",
   "version": "3.10.12"
  }
 },
 "nbformat": 4,
 "nbformat_minor": 5
}
