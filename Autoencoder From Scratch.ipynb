{
 "cells": [
  {
   "cell_type": "code",
   "execution_count": 1,
   "id": "f256ff60-3efb-4462-bcc0-8c4e098182c5",
   "metadata": {},
   "outputs": [],
   "source": [
    "import numpy as np"
   ]
  },
  {
   "cell_type": "code",
   "execution_count": 2,
   "id": "4a9bb544-2657-46ee-bb43-1bce65a02223",
   "metadata": {},
   "outputs": [
    {
     "data": {
      "text/plain": [
       "array([4, 3, 2, 1])"
      ]
     },
     "execution_count": 2,
     "metadata": {},
     "output_type": "execute_result"
    }
   ],
   "source": [
    "a = np.array([1,2,3,4])\n",
    "a[-1::-1]"
   ]
  },
  {
   "cell_type": "markdown",
   "id": "e58fa9ee-4800-4509-8ad2-9aa5fb17a447",
   "metadata": {},
   "source": [
    "\n",
    "---\n",
    "$OUTPUT = \\sigma(w^Tx + b)$   \n",
    "Now, u are done with foreward pass,   \n",
    "\n",
    "Find a way how to implement backpropagation"
   ]
  },
  {
   "cell_type": "code",
   "execution_count": 3,
   "id": "ece48a17-be8f-41ba-9e08-5b5f06cb5a3c",
   "metadata": {},
   "outputs": [],
   "source": [
    "from NeuralNet import relu\n",
    "from NeuralNet import NN"
   ]
  },
  {
   "cell_type": "code",
   "execution_count": 4,
   "id": "933ff6d2-5788-4d17-ba05-50a5010fbe58",
   "metadata": {},
   "outputs": [],
   "source": [
    "Net = NN(3)"
   ]
  },
  {
   "cell_type": "code",
   "execution_count": 5,
   "id": "7db77cf9-f03d-459c-8e76-fc7f3f384f8c",
   "metadata": {},
   "outputs": [],
   "source": [
    "Net.add_layer(3)"
   ]
  },
  {
   "cell_type": "code",
   "execution_count": 6,
   "id": "90f18448-6ade-4315-b271-3a81ddd12054",
   "metadata": {},
   "outputs": [],
   "source": [
    "Net.add_layer(3)"
   ]
  },
  {
   "cell_type": "code",
   "execution_count": 7,
   "id": "8c34760d-6248-43e2-b1de-025eb305b233",
   "metadata": {},
   "outputs": [],
   "source": [
    "Net.add_layer(2)"
   ]
  },
  {
   "cell_type": "code",
   "execution_count": 8,
   "id": "61d234dc-3c91-4852-a501-d92c19bd81b7",
   "metadata": {},
   "outputs": [
    {
     "data": {
      "text/plain": [
       "array([-0.00025548, -0.00822213])"
      ]
     },
     "execution_count": 8,
     "metadata": {},
     "output_type": "execute_result"
    }
   ],
   "source": [
    "Net.predict(np.array([1,2,3]))"
   ]
  },
  {
   "cell_type": "code",
   "execution_count": 9,
   "id": "db086c66-8a47-4a4e-a929-f0038dfc1176",
   "metadata": {},
   "outputs": [
    {
     "data": {
      "text/plain": [
       "array([ 1,  4, 16])"
      ]
     },
     "execution_count": 9,
     "metadata": {},
     "output_type": "execute_result"
    }
   ],
   "source": [
    "np.array([1,2,4])**2"
   ]
  },
  {
   "cell_type": "code",
   "execution_count": 10,
   "id": "65ed4da2-a628-4980-8a73-0874b607cadb",
   "metadata": {},
   "outputs": [
    {
     "data": {
      "text/plain": [
       "np.float64(1.0085114505946269)"
      ]
     },
     "execution_count": 10,
     "metadata": {},
     "output_type": "execute_result"
    }
   ],
   "source": [
    "Net.error([1.0])"
   ]
  },
  {
   "cell_type": "code",
   "execution_count": 11,
   "id": "f1388017-65fb-464d-9376-a9f85d5a7f23",
   "metadata": {},
   "outputs": [
    {
     "name": "stdout",
     "output_type": "stream",
     "text": [
      "first Sigma:\n",
      "[-0.02500255  0.00991778]\n",
      "W:\n",
      ", [[-0.16145738  0.69968111  0.21435642]\n",
      " [-0.47479266  0.33430953  0.10679299]]\n",
      "[-0.02500255  0.00991778]\n",
      "W:\n",
      ", [[ 0.73638146 -0.41575477 -0.14452745]\n",
      " [ 0.13699776  0.34867885 -1.3783097 ]\n",
      " [-0.29112545 -0.30708204 -3.00600039]]\n",
      "[-6.72041536e-04 -1.41782074e-02 -4.30030880e-05]\n",
      "Neuron 0: \n",
      " old weights and bias\n",
      "[-0.16145738  0.69968111  0.21435642]  + b=  -0.14702048357361547\n",
      "gradient: [-0.10142111 -0.02787141  0.00041428] + del b = -0.02500255484855794 \n",
      "New weights + bias: [-0.15131527  0.70246825  0.21431499] b_new = -0.14452022808875967\n",
      "Neuron 1: \n",
      " old weights and bias\n",
      "[-0.47479266  0.33430953  0.10679299]  + b=  0.7328503399981824\n",
      "gradient: [ 0.04023077  0.01105577 -0.00016433] + del b = 0.009917778686196406 \n",
      "New weights + bias: [-0.47881573  0.33320395  0.10680943] b_new = 0.7318585621295628\n",
      "sigma_arr\n",
      "[array([-2.42474224e-03, -4.65103113e-05,  1.97683565e-04]), array([-6.72041536e-04, -1.41782074e-02, -4.30030880e-05]), array([-0.02500255,  0.00991778])]\n",
      "a_l\n",
      "[array([1, 2, 3]), array([ 4.0372169 , -0.00827349, -0.0471223 ]), array([ 4.05642967,  1.11474255, -0.01656966]), array([-0.00025548, -0.00822213])]\n",
      "Gradients\n",
      "[array([[-2.42474224e-03, -4.84948447e-03, -7.27422671e-03],\n",
      "       [-4.65103113e-05, -9.30206226e-05, -1.39530934e-04],\n",
      "       [ 1.97683565e-04,  3.95367130e-04,  5.93050695e-04]]), array([[-2.71317744e-03,  5.56012789e-06,  3.16681415e-05],\n",
      "       [-5.72404986e-02,  1.17303236e-04,  6.68109716e-04],\n",
      "       [-1.73612794e-04,  3.55785553e-07,  2.02640433e-06]]), array([[-0.10142111, -0.02787141,  0.00041428],\n",
      "       [ 0.04023077,  0.01105577, -0.00016433]])]\n"
     ]
    },
    {
     "data": {
      "text/plain": [
       "'Ala'"
      ]
     },
     "execution_count": 11,
     "metadata": {},
     "output_type": "execute_result"
    }
   ],
   "source": [
    "Net.backward_pass([2.5, -1])"
   ]
  },
  {
   "cell_type": "code",
   "execution_count": 12,
   "id": "db38226b-18d6-4b0d-94a8-5aacf8f5c758",
   "metadata": {},
   "outputs": [
    {
     "data": {
      "text/plain": [
       "array([-0.00025548, -0.00822213])"
      ]
     },
     "execution_count": 12,
     "metadata": {},
     "output_type": "execute_result"
    }
   ],
   "source": [
    "Net.nn_layer_list[2].layer_output"
   ]
  },
  {
   "cell_type": "code",
   "execution_count": 13,
   "id": "67aba840-abdf-4034-9faf-6efb39c6e2db",
   "metadata": {},
   "outputs": [
    {
     "data": {
      "text/plain": [
       "[1, 1, 2]"
      ]
     },
     "execution_count": 13,
     "metadata": {},
     "output_type": "execute_result"
    }
   ],
   "source": [
    "[1] + [1,2]"
   ]
  },
  {
   "cell_type": "code",
   "execution_count": null,
   "id": "ab323224-0e70-4c26-ad0b-fd571292525d",
   "metadata": {},
   "outputs": [],
   "source": [
    " 0.04023077,  0.01105577, -0.00016433]])]"
   ]
  }
 ],
 "metadata": {
  "kernelspec": {
   "display_name": "Python 3 (ipykernel)",
   "language": "python",
   "name": "python3"
  },
  "language_info": {
   "codemirror_mode": {
    "name": "ipython",
    "version": 3
   },
   "file_extension": ".py",
   "mimetype": "text/x-python",
   "name": "python",
   "nbconvert_exporter": "python",
   "pygments_lexer": "ipython3",
   "version": "3.10.12"
  }
 },
 "nbformat": 4,
 "nbformat_minor": 5
}
