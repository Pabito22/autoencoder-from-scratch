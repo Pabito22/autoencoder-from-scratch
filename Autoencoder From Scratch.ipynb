{
 "cells": [
  {
   "cell_type": "code",
   "execution_count": 1,
   "id": "f256ff60-3efb-4462-bcc0-8c4e098182c5",
   "metadata": {},
   "outputs": [],
   "source": [
    "import numpy as np"
   ]
  },
  {
   "cell_type": "code",
   "execution_count": 2,
   "id": "4a9bb544-2657-46ee-bb43-1bce65a02223",
   "metadata": {},
   "outputs": [
    {
     "data": {
      "text/plain": [
       "array([4, 3, 2, 1])"
      ]
     },
     "execution_count": 2,
     "metadata": {},
     "output_type": "execute_result"
    }
   ],
   "source": [
    "a = np.array([1,2,3,4])\n",
    "a[-1::-1]"
   ]
  },
  {
   "cell_type": "markdown",
   "id": "e58fa9ee-4800-4509-8ad2-9aa5fb17a447",
   "metadata": {},
   "source": [
    "\n",
    "---\n",
    "$OUTPUT = \\sigma(w^Tx + b)$   \n",
    "Now, u are done with foreward pass,   \n",
    "\n",
    "Find a way how to implement backpropagation"
   ]
  },
  {
   "cell_type": "code",
   "execution_count": 3,
   "id": "ece48a17-be8f-41ba-9e08-5b5f06cb5a3c",
   "metadata": {},
   "outputs": [],
   "source": [
    "from NeuralNet import relu\n",
    "from NeuralNet import NN"
   ]
  },
  {
   "cell_type": "code",
   "execution_count": 4,
   "id": "933ff6d2-5788-4d17-ba05-50a5010fbe58",
   "metadata": {},
   "outputs": [],
   "source": [
    "Net = NN(3)"
   ]
  },
  {
   "cell_type": "code",
   "execution_count": 5,
   "id": "7db77cf9-f03d-459c-8e76-fc7f3f384f8c",
   "metadata": {},
   "outputs": [],
   "source": [
    "Net.add_layer(3)"
   ]
  },
  {
   "cell_type": "code",
   "execution_count": 6,
   "id": "90f18448-6ade-4315-b271-3a81ddd12054",
   "metadata": {},
   "outputs": [],
   "source": [
    "Net.add_layer(3)"
   ]
  },
  {
   "cell_type": "code",
   "execution_count": 7,
   "id": "8c34760d-6248-43e2-b1de-025eb305b233",
   "metadata": {},
   "outputs": [],
   "source": [
    "Net.add_layer(2)"
   ]
  },
  {
   "cell_type": "code",
   "execution_count": 8,
   "id": "61d234dc-3c91-4852-a501-d92c19bd81b7",
   "metadata": {},
   "outputs": [
    {
     "data": {
      "text/plain": [
       "array([2.20860817, 1.11277485])"
      ]
     },
     "execution_count": 8,
     "metadata": {},
     "output_type": "execute_result"
    }
   ],
   "source": [
    "Net.predict(np.array([1,2,3]))"
   ]
  },
  {
   "cell_type": "code",
   "execution_count": 9,
   "id": "db086c66-8a47-4a4e-a929-f0038dfc1176",
   "metadata": {},
   "outputs": [
    {
     "data": {
      "text/plain": [
       "array([ 1,  4, 16])"
      ]
     },
     "execution_count": 9,
     "metadata": {},
     "output_type": "execute_result"
    }
   ],
   "source": [
    "np.array([1,2,4])**2"
   ]
  },
  {
   "cell_type": "code",
   "execution_count": 10,
   "id": "65ed4da2-a628-4980-8a73-0874b607cadb",
   "metadata": {},
   "outputs": [
    {
     "data": {
      "text/plain": [
       "np.float64(0.7367259333106674)"
      ]
     },
     "execution_count": 10,
     "metadata": {},
     "output_type": "execute_result"
    }
   ],
   "source": [
    "Net.error([1.0])"
   ]
  },
  {
   "cell_type": "code",
   "execution_count": 11,
   "id": "f1388017-65fb-464d-9376-a9f85d5a7f23",
   "metadata": {},
   "outputs": [
    {
     "name": "stdout",
     "output_type": "stream",
     "text": [
      "first Sigma:\n",
      "[-0.29139183  2.11277485]\n",
      "W:\n",
      ", [[ 0.09707765  0.13409911 -0.84918549]\n",
      " [ 0.58359875 -1.20836174 -0.6134728 ]]\n",
      "[-0.29139183  2.11277485]\n",
      "W:\n",
      ", [[-1.21944154  0.56079341  1.47637741]\n",
      " [-0.28233822 -0.59794411  0.55203006]\n",
      " [-1.01852549 -1.62650619  0.34336909]]\n",
      "[ 1.20472514 -0.02592072 -0.01048684]\n",
      "Neuron 0: \n",
      " old weights and bias\n",
      "[ 0.09707765  0.13409911 -0.84918549]  + b=  2.0337422607319184\n",
      "gradient: [-0.34349361  0.00933048  0.0222097 ] + del b = -0.2913918336626735 \n",
      "New weights + bias: [ 0.13142701  0.13316606 -0.85140646] b_new = 2.0628814440981857\n",
      "Neuron 1: \n",
      " old weights and bias\n",
      "[ 0.58359875 -1.20836174 -0.6134728 ]  + b=  0.33937609983512035\n",
      "gradient: [ 2.49054564 -0.06765185 -0.16103434] + del b = 2.112774850405842 \n",
      "New weights + bias: [ 0.33454419 -1.20159655 -0.59736937] b_new = 0.12809861479453613\n",
      "sigma_arr\n",
      "[array([-0.01451092,  0.70815797,  0.01760719]), array([ 1.20472514, -0.02592072, -0.01048684]), array([-0.29139183,  2.11277485])]\n"
     ]
    },
    {
     "data": {
      "text/plain": [
       "'Ala'"
      ]
     },
     "execution_count": 11,
     "metadata": {},
     "output_type": "execute_result"
    }
   ],
   "source": [
    "Net.backward_pass([2.5, -1])"
   ]
  },
  {
   "cell_type": "code",
   "execution_count": 12,
   "id": "db38226b-18d6-4b0d-94a8-5aacf8f5c758",
   "metadata": {},
   "outputs": [
    {
     "data": {
      "text/plain": [
       "array([2.20860817, 1.11277485])"
      ]
     },
     "execution_count": 12,
     "metadata": {},
     "output_type": "execute_result"
    }
   ],
   "source": [
    "Net.nn_layer_list[2].layer_output"
   ]
  },
  {
   "cell_type": "code",
   "execution_count": 13,
   "id": "67aba840-abdf-4034-9faf-6efb39c6e2db",
   "metadata": {},
   "outputs": [
    {
     "data": {
      "text/plain": [
       "[1, 1, 2]"
      ]
     },
     "execution_count": 13,
     "metadata": {},
     "output_type": "execute_result"
    }
   ],
   "source": [
    "[1] + [1,2]"
   ]
  },
  {
   "cell_type": "code",
   "execution_count": null,
   "id": "ab323224-0e70-4c26-ad0b-fd571292525d",
   "metadata": {},
   "outputs": [],
   "source": []
  }
 ],
 "metadata": {
  "kernelspec": {
   "display_name": "Python 3 (ipykernel)",
   "language": "python",
   "name": "python3"
  },
  "language_info": {
   "codemirror_mode": {
    "name": "ipython",
    "version": 3
   },
   "file_extension": ".py",
   "mimetype": "text/x-python",
   "name": "python",
   "nbconvert_exporter": "python",
   "pygments_lexer": "ipython3",
   "version": "3.10.12"
  }
 },
 "nbformat": 4,
 "nbformat_minor": 5
}
