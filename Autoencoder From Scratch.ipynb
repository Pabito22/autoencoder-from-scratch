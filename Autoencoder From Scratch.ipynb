{
 "cells": [
  {
   "cell_type": "code",
   "execution_count": 1,
   "id": "f256ff60-3efb-4462-bcc0-8c4e098182c5",
   "metadata": {},
   "outputs": [],
   "source": [
    "import numpy as np"
   ]
  },
  {
   "cell_type": "code",
   "execution_count": 2,
   "id": "4a9bb544-2657-46ee-bb43-1bce65a02223",
   "metadata": {},
   "outputs": [
    {
     "data": {
      "text/plain": [
       "array([4, 3, 2, 1])"
      ]
     },
     "execution_count": 2,
     "metadata": {},
     "output_type": "execute_result"
    }
   ],
   "source": [
    "a = np.array([1,2,3,4])\n",
    "a[-1::-1]"
   ]
  },
  {
   "cell_type": "markdown",
   "id": "e58fa9ee-4800-4509-8ad2-9aa5fb17a447",
   "metadata": {},
   "source": [
    "\n",
    "---\n",
    "$OUTPUT = \\sigma(w^Tx + b)$   \n",
    "Now, u are done with foreward pass,   \n",
    "\n",
    "Find a way how to implement backpropagation"
   ]
  },
  {
   "cell_type": "code",
   "execution_count": 3,
   "id": "ece48a17-be8f-41ba-9e08-5b5f06cb5a3c",
   "metadata": {},
   "outputs": [],
   "source": [
    "from NeuralNet import leaky_relu\n",
    "from NeuralNet import NN"
   ]
  },
  {
   "cell_type": "code",
   "execution_count": 4,
   "id": "933ff6d2-5788-4d17-ba05-50a5010fbe58",
   "metadata": {},
   "outputs": [],
   "source": [
    "Net = NN(3)"
   ]
  },
  {
   "cell_type": "code",
   "execution_count": 5,
   "id": "7db77cf9-f03d-459c-8e76-fc7f3f384f8c",
   "metadata": {},
   "outputs": [],
   "source": [
    "Net.add_layer(3)"
   ]
  },
  {
   "cell_type": "code",
   "execution_count": 6,
   "id": "90f18448-6ade-4315-b271-3a81ddd12054",
   "metadata": {},
   "outputs": [],
   "source": [
    "Net.add_layer(3)"
   ]
  },
  {
   "cell_type": "code",
   "execution_count": 7,
   "id": "8c34760d-6248-43e2-b1de-025eb305b233",
   "metadata": {},
   "outputs": [],
   "source": [
    "Net.add_layer(2)"
   ]
  },
  {
   "cell_type": "code",
   "execution_count": 8,
   "id": "61d234dc-3c91-4852-a501-d92c19bd81b7",
   "metadata": {},
   "outputs": [
    {
     "data": {
      "text/plain": [
       "array([ 2.05335723, -0.00713438])"
      ]
     },
     "execution_count": 8,
     "metadata": {},
     "output_type": "execute_result"
    }
   ],
   "source": [
    "Net.predict(np.array([1,2,3]))"
   ]
  },
  {
   "cell_type": "code",
   "execution_count": 9,
   "id": "db086c66-8a47-4a4e-a929-f0038dfc1176",
   "metadata": {},
   "outputs": [
    {
     "name": "stdout",
     "output_type": "stream",
     "text": [
      "Old weights: \n",
      "\n",
      "[[-0.54002277  0.03957457  1.11407277 -1.26402139]\n",
      " [-0.11338409  1.21430147  0.3859328   0.58810314]\n",
      " [ 0.18790445  1.16775793 -0.20480472  0.53255805]]\n",
      "[[-1.1400851   0.45861426 -1.90181799 -0.77627024]\n",
      " [ 1.05571877 -0.99681489 -1.46905369  1.24119774]\n",
      " [ 2.57088748 -1.31270537  0.44421615  0.77825798]]\n",
      "[[-0.2024243   1.42461721  1.14469681  1.31964121]\n",
      " [ 1.19976401 -0.86451899  0.14277702 -0.78763086]]\n",
      "-------------------\n"
     ]
    }
   ],
   "source": [
    "print(\"Old weights: \\n\")\n",
    "for layer in Net.nn_layer_list:\n",
    "    print(layer.get_weights())\n",
    "print(\"-------------------\")"
   ]
  },
  {
   "cell_type": "code",
   "execution_count": 10,
   "id": "65ed4da2-a628-4980-8a73-0874b607cadb",
   "metadata": {},
   "outputs": [
    {
     "data": {
      "text/plain": [
       "np.float64(1.0619405533020219)"
      ]
     },
     "execution_count": 10,
     "metadata": {},
     "output_type": "execute_result"
    }
   ],
   "source": [
    "Net.error([1.0])"
   ]
  },
  {
   "cell_type": "code",
   "execution_count": 11,
   "id": "f1388017-65fb-464d-9376-a9f85d5a7f23",
   "metadata": {},
   "outputs": [
    {
     "name": "stdout",
     "output_type": "stream",
     "text": [
      "first Sigma:\n",
      "[-0.44664277  0.00992866]\n",
      "-------------\n",
      "i (layer from last to first) 1\n",
      "W:\n",
      " [[-0.2024243   1.42461721  1.14469681]\n",
      " [ 1.19976401 -0.86451899  0.14277702]]\n",
      "sig old: \n",
      " [-0.44664277  0.00992866]\n",
      "-------------\n",
      "i (layer from last to first) 0\n",
      "W:\n",
      " [[-1.1400851   0.45861426 -1.90181799]\n",
      " [ 1.05571877 -0.99681489 -1.46905369]\n",
      " [ 2.57088748 -1.31270537  0.44421615]]\n",
      "sig old: \n",
      " [ 0.00102323 -0.00644878 -0.50985297]\n"
     ]
    },
    {
     "ename": "AttributeError",
     "evalue": "'Layer' object has no attribute 'nr_neurons'",
     "output_type": "error",
     "traceback": [
      "\u001b[0;31m---------------------------------------------------------------------------\u001b[0m",
      "\u001b[0;31mAttributeError\u001b[0m                            Traceback (most recent call last)",
      "Cell \u001b[0;32mIn[11], line 1\u001b[0m\n\u001b[0;32m----> 1\u001b[0m \u001b[43mNet\u001b[49m\u001b[38;5;241;43m.\u001b[39;49m\u001b[43mbackward_pass\u001b[49m\u001b[43m(\u001b[49m\u001b[43m[\u001b[49m\u001b[38;5;241;43m2.5\u001b[39;49m\u001b[43m,\u001b[49m\u001b[43m \u001b[49m\u001b[38;5;241;43m-\u001b[39;49m\u001b[38;5;241;43m1\u001b[39;49m\u001b[43m]\u001b[49m\u001b[43m)\u001b[49m\n",
      "File \u001b[0;32m~/Desktop/STUDIA_NAUKA/SEM6/Autoencoder From Scratch/NeuralNet.py:249\u001b[0m, in \u001b[0;36mNN.backward_pass\u001b[0;34m(self, exp_output, lbd)\u001b[0m\n\u001b[1;32m    246\u001b[0m new_weights_of_last_layer \u001b[38;5;241m=\u001b[39m []\n\u001b[1;32m    248\u001b[0m \u001b[38;5;66;03m#get the derivatives for the weights for every neuron in the lasy layer\u001b[39;00m\n\u001b[0;32m--> 249\u001b[0m \u001b[38;5;28;01mfor\u001b[39;00m i \u001b[38;5;129;01min\u001b[39;00m \u001b[38;5;28mrange\u001b[39m(\u001b[43mlast_layer\u001b[49m\u001b[38;5;241;43m.\u001b[39;49m\u001b[43mnr_neurons\u001b[49m):\n\u001b[1;32m    250\u001b[0m     sigma_i \u001b[38;5;241m=\u001b[39m sigma[i]\n\u001b[1;32m    251\u001b[0m     neuron_i \u001b[38;5;241m=\u001b[39m last_layer\u001b[38;5;241m.\u001b[39mlayer_neurons_list[i]\n",
      "\u001b[0;31mAttributeError\u001b[0m: 'Layer' object has no attribute 'nr_neurons'"
     ]
    }
   ],
   "source": [
    "Net.backward_pass([2.5, -1])"
   ]
  },
  {
   "cell_type": "code",
   "execution_count": null,
   "id": "db38226b-18d6-4b0d-94a8-5aacf8f5c758",
   "metadata": {},
   "outputs": [],
   "source": [
    "Net.nn_layer_list[2].layer_output"
   ]
  },
  {
   "cell_type": "code",
   "execution_count": null,
   "id": "67aba840-abdf-4034-9faf-6efb39c6e2db",
   "metadata": {},
   "outputs": [],
   "source": [
    "print(\"New weights: \\n\")\n",
    "for layer in Net.nn_layer_list:\n",
    "    print(layer.get_weights())\n",
    "print(\"-------------------\")"
   ]
  },
  {
   "cell_type": "code",
   "execution_count": null,
   "id": "ab323224-0e70-4c26-ad0b-fd571292525d",
   "metadata": {},
   "outputs": [],
   "source": []
  }
 ],
 "metadata": {
  "kernelspec": {
   "display_name": "Python 3 (ipykernel)",
   "language": "python",
   "name": "python3"
  },
  "language_info": {
   "codemirror_mode": {
    "name": "ipython",
    "version": 3
   },
   "file_extension": ".py",
   "mimetype": "text/x-python",
   "name": "python",
   "nbconvert_exporter": "python",
   "pygments_lexer": "ipython3",
   "version": "3.10.12"
  }
 },
 "nbformat": 4,
 "nbformat_minor": 5
}
