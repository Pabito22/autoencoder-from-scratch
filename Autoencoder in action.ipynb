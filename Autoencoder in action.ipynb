{
 "cells": [
  {
   "cell_type": "markdown",
   "id": "0544084b-93d6-4ea8-bcbc-37d71cf3cfe1",
   "metadata": {},
   "source": []
  },
  {
   "cell_type": "code",
   "execution_count": 1,
   "id": "aed4169c-1e67-475c-957c-67489f429046",
   "metadata": {},
   "outputs": [],
   "source": [
    "from NeuralNet import leaky_relu\n",
    "from NeuralNet import sigmoid\n",
    "from NeuralNet import tanh\n",
    "from NeuralNet import NN"
   ]
  },
  {
   "cell_type": "code",
   "execution_count": 2,
   "id": "eb8e94eb-6736-4b60-801f-86d4788b8853",
   "metadata": {},
   "outputs": [],
   "source": [
    "#upload the weights of the model\n",
    "import numpy as np\n",
    "from sklearn.datasets import load_digits\n",
    "from sklearn.model_selection import train_test_split\n",
    "from sklearn.preprocessing import MinMaxScaler\n",
    "\n",
    "# Load digits (8x8 grayscale images)\n",
    "digits = load_digits()\n",
    "X = digits.data  # shape: (1797, 64)\n",
    "\n",
    "# Normalize pixel values to [0, 1]\n",
    "scaler = MinMaxScaler()\n",
    "X_scaled = scaler.fit_transform(X)\n",
    "\n",
    "# Split into train/test sets\n",
    "X_train, X_test = train_test_split(X_scaled, test_size=0.2, random_state=42)\n",
    "\n",
    "# ========== Create the Autoencoder ==========\n",
    "autoencoder = NN(input_size=64)\n",
    "\n",
    "# -------- Encoder --------\n",
    "autoencoder.add_layer(50, activation_function=tanh)\n",
    "autoencoder.add_layer(40, activation_function=tanh)\n",
    "autoencoder.add_layer(32, activation_function=tanh)  # Bottleneck\n",
    "\n",
    "# -------- Decoder --------\n",
    "autoencoder.add_layer(40, activation_function=tanh)\n",
    "autoencoder.add_layer(50, activation_function=tanh)\n",
    "autoencoder.add_layer(64, activation_function=sigmoid)  # Output layer\n"
   ]
  },
  {
   "cell_type": "code",
   "execution_count": 3,
   "id": "12a1ee3b-d9e3-48a3-86b8-54bc79f0ec04",
   "metadata": {},
   "outputs": [],
   "source": [
    "#Update the model weights\n",
    "# Load back with allow_pickle=True\n",
    "loaded_layer_weights = np.load('layer_weights.npy', allow_pickle=True)\n",
    "\n",
    "# Restore weights into model layers\n",
    "for layer, weights in zip(autoencoder.layers, loaded_layer_weights):\n",
    "    layer._update_weights(weights)\n"
   ]
  },
  {
   "cell_type": "code",
   "execution_count": 4,
   "id": "6eca4e0a-cbe8-4125-b165-525c5cfe7f84",
   "metadata": {},
   "outputs": [
    {
     "data": {
      "image/png": "[encoded data removed]",
      "text/plain": [
       "<Figure size 1200x400 with 3 Axes>"
      ]
     },
     "metadata": {},
     "output_type": "display_data"
    }
   ],
   "source": [
    "import matplotlib.pyplot as plt\n",
    "\n",
    "# Select a sample from the test set\n",
    "sample_idx = 1\n",
    "x_sample = X_test[sample_idx]\n",
    "\n",
    "# === Get original image ===\n",
    "original_image = x_sample.reshape(8, 8)\n",
    "\n",
    "# === Run through the autoencoder ===\n",
    "_ = autoencoder._predict(x_sample)  # Forward pass\n",
    "encoded = autoencoder.activations[3]  # Bottleneck output (32D)\n",
    "reconstructed = autoencoder.activations[-1].reshape(8, 8)\n",
    "\n",
    "# === Plotting ===\n",
    "fig, axs = plt.subplots(1, 3, figsize=(12, 4))\n",
    "\n",
    "# Original\n",
    "axs[0].imshow(original_image, cmap='binary')  # black digit, white background\n",
    "axs[0].set_title(\"Original Digit\")\n",
    "axs[0].axis('off')\n",
    "\n",
    "# Bottleneck\n",
    "axs[1].imshow(encoded.reshape(4, 8), cmap='binary')  # reshape to visualize\n",
    "axs[1].set_title(\"Bottleneck (32D)\")\n",
    "axs[1].axis('off')\n",
    "\n",
    "# Reconstructed\n",
    "axs[2].imshow(reconstructed, cmap='binary')\n",
    "axs[2].set_title(\"Reconstructed Digit\")\n",
    "axs[2].axis('off')\n",
    "\n",
    "plt.tight_layout()\n",
    "plt.show()\n"
   ]
  },
  {
   "cell_type": "code",
   "execution_count": 5,
   "id": "0f36f793-6120-4cf9-9a77-58b6598b1d47",
   "metadata": {},
   "outputs": [
    {
     "data": {
      "text/plain": [
       "array([array([[ 0.9689865 , -0.07629048,  0.19295877, ...,  0.27539208,\n",
       "               -0.4191641 ,  0.86793158],\n",
       "              [ 0.4450844 , -1.6741717 ,  1.48578058, ..., -0.32621207,\n",
       "               -1.65209063,  1.28742224],\n",
       "              [-1.74099099,  0.06308759, -0.09949192, ...,  0.59347077,\n",
       "                0.85666648,  1.9418558 ],\n",
       "              ...,\n",
       "              [ 1.09442694,  0.31464237, -0.8569353 , ...,  0.8255469 ,\n",
       "                0.97342408,  0.91000611],\n",
       "              [ 0.98791208, -2.00358552, -0.06271423, ..., -0.64685412,\n",
       "               -0.93767221,  0.52274963],\n",
       "              [ 2.00123415,  0.46674674, -0.77786631, ...,  0.77371339,\n",
       "                0.83955866,  1.64273822]])                             ,\n",
       "       array([[ 1.26789272, -0.58481173,  0.44917413, ..., -0.44920866,\n",
       "               -1.82637751, -0.36802343],\n",
       "              [-0.00504556, -0.23741696,  0.32598838, ...,  0.14923799,\n",
       "                2.28555186,  0.3226884 ],\n",
       "              [ 0.01797355,  0.34911609,  1.06612652, ..., -1.68273122,\n",
       "               -0.81908079,  0.86906673],\n",
       "              ...,\n",
       "              [ 0.78916473, -0.1649121 ,  1.03046867, ..., -0.75136181,\n",
       "                1.63126154, -0.8501939 ],\n",
       "              [ 0.56511746, -0.37044251, -0.90792398, ..., -2.23664055,\n",
       "               -0.3354297 , -0.16989537],\n",
       "              [ 0.93509552,  2.15254295, -0.84707455, ..., -0.52287762,\n",
       "                0.07414751,  0.65943659]])                             ,\n",
       "       array([[-2.60137214, -1.83214239,  0.49694234, ...,  0.05545719,\n",
       "               -1.24966526, -1.65648903],\n",
       "              [-0.12279994, -0.26071971,  3.44271947, ...,  1.1642343 ,\n",
       "                1.59292983,  0.00390014],\n",
       "              [ 0.21309782, -0.19357011,  0.16309596, ...,  0.15547926,\n",
       "               -0.91478117, -0.02513196],\n",
       "              ...,\n",
       "              [-0.3302832 , -0.90239091,  0.94317461, ..., -0.28861833,\n",
       "                0.72443494, -0.80911723],\n",
       "              [-1.09137474,  0.74334033,  0.31998332, ..., -0.89916666,\n",
       "                1.22260745, -0.41347271],\n",
       "              [-0.38982581, -1.11732309,  0.84069314, ..., -0.47550031,\n",
       "                1.43579164, -0.66681787]])                             ,\n",
       "       array([[ 0.05517191,  0.26694091,  0.39955162, ...,  0.27247589,\n",
       "               -1.27488742,  0.89828571],\n",
       "              [-0.98376128,  1.6880426 ,  0.68097912, ...,  0.81999915,\n",
       "                0.14147345, -0.1844358 ],\n",
       "              [ 1.45268127, -0.68328968, -1.67710092, ..., -0.7655809 ,\n",
       "                0.35526297, -0.74986179],\n",
       "              ...,\n",
       "              [-0.85091989,  0.93048626,  0.76897773, ..., -0.75207199,\n",
       "                0.68865211,  0.13085339],\n",
       "              [-0.02847596,  0.4820833 , -0.38530841, ...,  0.85673429,\n",
       "                0.14197401,  0.99770089],\n",
       "              [-0.51836075,  0.43332481, -1.51044976, ...,  1.6743985 ,\n",
       "               -0.28712276, -0.34516839]])                             ,\n",
       "       array([[-0.12948195,  0.64554117,  1.8976979 , ...,  0.22277255,\n",
       "                0.13630238, -0.39642903],\n",
       "              [-2.06878843, -1.39842428, -1.20449436, ...,  0.70400991,\n",
       "                0.5815306 , -0.67423251],\n",
       "              [-0.10518212,  0.78975436,  0.84952824, ..., -0.92902846,\n",
       "               -0.0385182 , -0.29345933],\n",
       "              ...,\n",
       "              [ 0.35472902, -1.64008342,  0.4166866 , ...,  0.49325767,\n",
       "               -0.37124885, -1.33628503],\n",
       "              [-1.35179388, -1.35494434,  0.08278683, ..., -0.61904855,\n",
       "               -0.63194138,  0.57690997],\n",
       "              [-1.12805701,  0.35253581,  3.46346652, ..., -1.23029517,\n",
       "               -1.543413  ,  0.582787  ]])                             ,\n",
       "       array([[-0.14618936, -1.76085409,  0.12138652, ...,  0.54741511,\n",
       "                1.53163937,  0.40048405],\n",
       "              [ 0.53335408, -1.96170059, -0.37573634, ...,  1.41017163,\n",
       "                1.18459357,  1.54249615],\n",
       "              [-1.41511675,  0.34430692,  0.76632708, ...,  0.02715728,\n",
       "                0.96159378, -2.55187267],\n",
       "              ...,\n",
       "              [-0.59503318, -1.02716109,  0.52581915, ..., -1.88925547,\n",
       "               -0.04040515, -0.36050193],\n",
       "              [-0.36467996,  1.85648993,  1.24989102, ...,  0.04600634,\n",
       "                1.036063  , -0.47967269],\n",
       "              [-0.37944103, -0.55761277,  0.95468395, ..., -0.91548796,\n",
       "                2.19636637, -1.04059336]])                             ],\n",
       "      dtype=object)"
      ]
     },
     "execution_count": 5,
     "metadata": {},
     "output_type": "execute_result"
    }
   ],
   "source": [
    "loaded_layer_weights"
   ]
  },
  {
   "cell_type": "code",
   "execution_count": null,
   "id": "92baffab-56f0-4649-9e4e-cf943f176353",
   "metadata": {},
   "outputs": [],
   "source": []
  }
 ],
 "metadata": {
  "kernelspec": {
   "display_name": "Python 3 (ipykernel)",
   "language": "python",
   "name": "python3"
  },
  "language_info": {
   "codemirror_mode": {
    "name": "ipython",
    "version": 3
   },
   "file_extension": ".py",
   "mimetype": "text/x-python",
   "name": "python",
   "nbconvert_exporter": "python",
   "pygments_lexer": "ipython3",
   "version": "3.10.12"
  }
 },
 "nbformat": 4,
 "nbformat_minor": 5
}
